{
  "nbformat": 4,
  "nbformat_minor": 0,
  "metadata": {
    "kernelspec": {
      "display_name": "Python 3",
      "language": "python",
      "name": "python3"
    },
    "language_info": {
      "codemirror_mode": {
        "name": "ipython",
        "version": 3
      },
      "file_extension": ".py",
      "mimetype": "text/x-python",
      "name": "python",
      "nbconvert_exporter": "python",
      "pygments_lexer": "ipython3",
      "version": "3.6.6"
    },
    "colab": {
      "name": "Online Retail Customer Segmentation - Capstone Project.ipynb",
      "provenance": [],
      "collapsed_sections": [],
      "include_colab_link": true
    }
  },
  "cells": [
    {
      "cell_type": "markdown",
      "metadata": {
        "id": "view-in-github",
        "colab_type": "text"
      },
      "source": [
        "<a href=\"https://colab.research.google.com/github/AtulChouhan0/Online-Retail-Customer-Segmentation/blob/main/Online_Retail_Customer_Segmentation_Capstone_Project.ipynb\" target=\"_parent\"><img src=\"https://colab.research.google.com/assets/colab-badge.svg\" alt=\"Open In Colab\"/></a>"
      ]
    },
    {
      "cell_type": "markdown",
      "metadata": {
        "id": "tOGC-qoyhJeX"
      },
      "source": [
        "# <b><u> Project Title : Online Retail Customer Segmentation. </u></b>"
      ]
    },
    {
      "cell_type": "markdown",
      "metadata": {
        "id": "Y06xIdG26kRF"
      },
      "source": [
        "## <b> Problem Description </b>\n",
        "\n",
        "### In this project, your task is to identify major customer segments on a transnational data set which contains all the transactions occurring between 01/12/2010 and 09/12/2011 for a UK-based and registered non-store online retail.The company mainly sells unique all-occasion gifts. Many customers of the company are wholesalers."
      ]
    },
    {
      "cell_type": "markdown",
      "metadata": {
        "id": "AlLxAtlziMbP"
      },
      "source": [
        "## <b> Data Description </b>\n",
        "\n",
        "### <b>Attribute Information: </b>\n",
        "\n",
        "* ### InvoiceNo: Invoice number. Nominal, a 6-digit integral number uniquely assigned to each transaction. If this code starts with letter 'c', it indicates a cancellation.\n",
        "* ### StockCode: Product (item) code. Nominal, a 5-digit integral number uniquely assigned to each distinct product.\n",
        "* ### Description: Product (item) name. Nominal.\n",
        "* ### Quantity: The quantities of each product (item) per transaction. Numeric.\n",
        "* ### InvoiceDate: Invice Date and time. Numeric, the day and time when each transaction was generated.\n",
        "* ### UnitPrice: Unit price. Numeric, Product price per unit in sterling.\n",
        "* ### CustomerID: Customer number. Nominal, a 5-digit integral number uniquely assigned to each customer.\n",
        "* ### Country: Country name. Nominal, the name of the country where each customer resides."
      ]
    },
    {
      "cell_type": "markdown",
      "source": [
        "# **Why we are doing customer segmentation ?**\n",
        "**To answer following questions**\n",
        "# **1. We wanna know who are my customers**\n",
        "# **2. how much they purches**\n",
        "# **3. what they purches(product name)**\n",
        "# **3. when they purches (i.e seasonal trend ,if exist in the dataset)**\n",
        "# **4. customer budget**\n",
        "# **5. how frequent they purches**\n",
        "\n",
        "\n",
        "# **so, I can do capacity planing and also I can target my customer**\n"
      ],
      "metadata": {
        "id": "vtePrEDIvV9t"
      }
    },
    {
      "cell_type": "markdown",
      "source": [
        "# **Drive Mount**"
      ],
      "metadata": {
        "id": "FVuQgiLTH9lT"
      }
    },
    {
      "cell_type": "code",
      "source": [
        "from google.colab import drive\n",
        "drive.mount('/content/drive')"
      ],
      "metadata": {
        "colab": {
          "base_uri": "https://localhost:8080/"
        },
        "id": "pPaCT-sA7xiF",
        "outputId": "4dae5e70-f56c-41f2-d9be-323479497497"
      },
      "execution_count": 1,
      "outputs": [
        {
          "output_type": "stream",
          "name": "stdout",
          "text": [
            "Mounted at /content/drive\n"
          ]
        }
      ]
    },
    {
      "cell_type": "markdown",
      "source": [
        "# **Path of the data file**"
      ],
      "metadata": {
        "id": "OLxC5TVNICvH"
      }
    },
    {
      "cell_type": "code",
      "metadata": {
        "id": "dByMsuzT8Tnw"
      },
      "source": [
        "path = '/content/drive/MyDrive/Almabetter/capstone/clustering/Copy of Online Retail.xlsx'"
      ],
      "execution_count": 2,
      "outputs": []
    },
    {
      "cell_type": "markdown",
      "source": [
        "# **Importing Library**"
      ],
      "metadata": {
        "id": "cU5j9OrrITLy"
      }
    },
    {
      "cell_type": "code",
      "source": [
        "import pandas as pd\n",
        "import numpy as np\n",
        "import matplotlib.pyplot as plt\n",
        "import seaborn as sns"
      ],
      "metadata": {
        "id": "No61BAUa8SIj"
      },
      "execution_count": 3,
      "outputs": []
    },
    {
      "cell_type": "code",
      "source": [
        "df = pd.read_excel(path)"
      ],
      "metadata": {
        "id": "OJ8gJ0GV8m6-"
      },
      "execution_count": 4,
      "outputs": []
    },
    {
      "cell_type": "markdown",
      "source": [
        "# **Data Exploration**"
      ],
      "metadata": {
        "id": "QrWrBvKbIbdZ"
      }
    },
    {
      "cell_type": "code",
      "source": [
        "df.head()"
      ],
      "metadata": {
        "colab": {
          "base_uri": "https://localhost:8080/",
          "height": 206
        },
        "id": "wq-KnjFY8yC1",
        "outputId": "27f4c41b-b21e-46b7-d33a-85dcf29668ce"
      },
      "execution_count": 5,
      "outputs": [
        {
          "output_type": "execute_result",
          "data": {
            "text/html": [
              "<div>\n",
              "<style scoped>\n",
              "    .dataframe tbody tr th:only-of-type {\n",
              "        vertical-align: middle;\n",
              "    }\n",
              "\n",
              "    .dataframe tbody tr th {\n",
              "        vertical-align: top;\n",
              "    }\n",
              "\n",
              "    .dataframe thead th {\n",
              "        text-align: right;\n",
              "    }\n",
              "</style>\n",
              "<table border=\"1\" class=\"dataframe\">\n",
              "  <thead>\n",
              "    <tr style=\"text-align: right;\">\n",
              "      <th></th>\n",
              "      <th>InvoiceNo</th>\n",
              "      <th>StockCode</th>\n",
              "      <th>Description</th>\n",
              "      <th>Quantity</th>\n",
              "      <th>InvoiceDate</th>\n",
              "      <th>UnitPrice</th>\n",
              "      <th>CustomerID</th>\n",
              "      <th>Country</th>\n",
              "    </tr>\n",
              "  </thead>\n",
              "  <tbody>\n",
              "    <tr>\n",
              "      <th>0</th>\n",
              "      <td>536365</td>\n",
              "      <td>85123A</td>\n",
              "      <td>WHITE HANGING HEART T-LIGHT HOLDER</td>\n",
              "      <td>6</td>\n",
              "      <td>2010-12-01 08:26:00</td>\n",
              "      <td>2.55</td>\n",
              "      <td>17850.0</td>\n",
              "      <td>United Kingdom</td>\n",
              "    </tr>\n",
              "    <tr>\n",
              "      <th>1</th>\n",
              "      <td>536365</td>\n",
              "      <td>71053</td>\n",
              "      <td>WHITE METAL LANTERN</td>\n",
              "      <td>6</td>\n",
              "      <td>2010-12-01 08:26:00</td>\n",
              "      <td>3.39</td>\n",
              "      <td>17850.0</td>\n",
              "      <td>United Kingdom</td>\n",
              "    </tr>\n",
              "    <tr>\n",
              "      <th>2</th>\n",
              "      <td>536365</td>\n",
              "      <td>84406B</td>\n",
              "      <td>CREAM CUPID HEARTS COAT HANGER</td>\n",
              "      <td>8</td>\n",
              "      <td>2010-12-01 08:26:00</td>\n",
              "      <td>2.75</td>\n",
              "      <td>17850.0</td>\n",
              "      <td>United Kingdom</td>\n",
              "    </tr>\n",
              "    <tr>\n",
              "      <th>3</th>\n",
              "      <td>536365</td>\n",
              "      <td>84029G</td>\n",
              "      <td>KNITTED UNION FLAG HOT WATER BOTTLE</td>\n",
              "      <td>6</td>\n",
              "      <td>2010-12-01 08:26:00</td>\n",
              "      <td>3.39</td>\n",
              "      <td>17850.0</td>\n",
              "      <td>United Kingdom</td>\n",
              "    </tr>\n",
              "    <tr>\n",
              "      <th>4</th>\n",
              "      <td>536365</td>\n",
              "      <td>84029E</td>\n",
              "      <td>RED WOOLLY HOTTIE WHITE HEART.</td>\n",
              "      <td>6</td>\n",
              "      <td>2010-12-01 08:26:00</td>\n",
              "      <td>3.39</td>\n",
              "      <td>17850.0</td>\n",
              "      <td>United Kingdom</td>\n",
              "    </tr>\n",
              "  </tbody>\n",
              "</table>\n",
              "</div>"
            ],
            "text/plain": [
              "  InvoiceNo StockCode  ... CustomerID         Country\n",
              "0    536365    85123A  ...    17850.0  United Kingdom\n",
              "1    536365     71053  ...    17850.0  United Kingdom\n",
              "2    536365    84406B  ...    17850.0  United Kingdom\n",
              "3    536365    84029G  ...    17850.0  United Kingdom\n",
              "4    536365    84029E  ...    17850.0  United Kingdom\n",
              "\n",
              "[5 rows x 8 columns]"
            ]
          },
          "metadata": {},
          "execution_count": 5
        }
      ]
    },
    {
      "cell_type": "code",
      "source": [
        "df.shape"
      ],
      "metadata": {
        "colab": {
          "base_uri": "https://localhost:8080/"
        },
        "id": "PYkh2_7iMXMv",
        "outputId": "bf65c498-2ac3-4334-82ae-8f159978cc34"
      },
      "execution_count": 6,
      "outputs": [
        {
          "output_type": "execute_result",
          "data": {
            "text/plain": [
              "(541909, 8)"
            ]
          },
          "metadata": {},
          "execution_count": 6
        }
      ]
    },
    {
      "cell_type": "code",
      "source": [
        "df.info()"
      ],
      "metadata": {
        "colab": {
          "base_uri": "https://localhost:8080/"
        },
        "id": "xjFMxgqwJYVY",
        "outputId": "4b2b007f-2e23-4a33-ccb5-188857e41f0c"
      },
      "execution_count": 7,
      "outputs": [
        {
          "output_type": "stream",
          "name": "stdout",
          "text": [
            "<class 'pandas.core.frame.DataFrame'>\n",
            "RangeIndex: 541909 entries, 0 to 541908\n",
            "Data columns (total 8 columns):\n",
            " #   Column       Non-Null Count   Dtype         \n",
            "---  ------       --------------   -----         \n",
            " 0   InvoiceNo    541909 non-null  object        \n",
            " 1   StockCode    541909 non-null  object        \n",
            " 2   Description  540455 non-null  object        \n",
            " 3   Quantity     541909 non-null  int64         \n",
            " 4   InvoiceDate  541909 non-null  datetime64[ns]\n",
            " 5   UnitPrice    541909 non-null  float64       \n",
            " 6   CustomerID   406829 non-null  float64       \n",
            " 7   Country      541909 non-null  object        \n",
            "dtypes: datetime64[ns](1), float64(2), int64(1), object(4)\n",
            "memory usage: 33.1+ MB\n"
          ]
        }
      ]
    },
    {
      "cell_type": "markdown",
      "source": [
        "# **Missing value/Null values**"
      ],
      "metadata": {
        "id": "1vbfDiFK0tRy"
      }
    },
    {
      "cell_type": "code",
      "source": [
        "df.isna().sum()"
      ],
      "metadata": {
        "colab": {
          "base_uri": "https://localhost:8080/"
        },
        "id": "bC55L3700yeT",
        "outputId": "60533a00-59e0-4743-b569-7208bd784bab"
      },
      "execution_count": 10,
      "outputs": [
        {
          "output_type": "execute_result",
          "data": {
            "text/plain": [
              "InvoiceNo           0\n",
              "StockCode           0\n",
              "Description      1454\n",
              "Quantity            0\n",
              "InvoiceDate         0\n",
              "UnitPrice           0\n",
              "CustomerID     135080\n",
              "Country             0\n",
              "dtype: int64"
            ]
          },
          "metadata": {},
          "execution_count": 10
        }
      ]
    },
    {
      "cell_type": "markdown",
      "source": [
        "# **Duplicate values**"
      ],
      "metadata": {
        "id": "BzXNn2fM06ap"
      }
    },
    {
      "cell_type": "code",
      "source": [
        "print(\"The number of duplicate values in the data set is = \",len(df[df.duplicated()]))"
      ],
      "metadata": {
        "colab": {
          "base_uri": "https://localhost:8080/"
        },
        "id": "vG6fYH3Q0_Gz",
        "outputId": "39bfe788-7833-40f4-f76b-22d9881361da"
      },
      "execution_count": 11,
      "outputs": [
        {
          "output_type": "stream",
          "name": "stdout",
          "text": [
            "The number of duplicate values in the data set is =  5268\n"
          ]
        }
      ]
    },
    {
      "cell_type": "markdown",
      "source": [
        "# **we can clearly see that their are null value present in dataset**"
      ],
      "metadata": {
        "id": "UJc0R6rm0VcI"
      }
    },
    {
      "cell_type": "markdown",
      "source": [
        "# **drop null values**"
      ],
      "metadata": {
        "id": "wC1mumXq1T6N"
      }
    },
    {
      "cell_type": "code",
      "source": [
        "df.dropna(inplace=True)"
      ],
      "metadata": {
        "id": "uKDTzYNa1fic"
      },
      "execution_count": 12,
      "outputs": []
    },
    {
      "cell_type": "code",
      "source": [
        "df.shape"
      ],
      "metadata": {
        "colab": {
          "base_uri": "https://localhost:8080/"
        },
        "id": "4XeFTP_m1nlA",
        "outputId": "60a1e802-e757-4f3b-cc1a-e149f2333efa"
      },
      "execution_count": 13,
      "outputs": [
        {
          "output_type": "execute_result",
          "data": {
            "text/plain": [
              "(406829, 8)"
            ]
          },
          "metadata": {},
          "execution_count": 13
        }
      ]
    },
    {
      "cell_type": "markdown",
      "source": [
        "# **After removeing null value in our dataset .it reduces to (406829, 8)**"
      ],
      "metadata": {
        "id": "Bt2xgEYe1v0E"
      }
    },
    {
      "cell_type": "markdown",
      "source": [
        "# **Droping all the cancelled record**"
      ],
      "metadata": {
        "id": "IyspCHJK2J1E"
      }
    },
    {
      "cell_type": "code",
      "source": [
        "df['InvoiceNo'] = df['InvoiceNo'].astype('str')"
      ],
      "metadata": {
        "id": "tLck4_vT2m6y"
      },
      "execution_count": 14,
      "outputs": []
    },
    {
      "cell_type": "code",
      "source": [
        "df=df[~df['InvoiceNo'].str.contains('C')]"
      ],
      "metadata": {
        "id": "XwFu5fzo2p_N"
      },
      "execution_count": 15,
      "outputs": []
    },
    {
      "cell_type": "markdown",
      "source": [
        "# **we have drop some InvoiceNo which are starts with 'c' because 'c', it indicates a cancellation**"
      ],
      "metadata": {
        "id": "XxKDUSVy2uDs"
      }
    },
    {
      "cell_type": "code",
      "source": [
        "df.describe(include='all').T"
      ],
      "metadata": {
        "colab": {
          "base_uri": "https://localhost:8080/",
          "height": 355
        },
        "id": "6xdeCJjbJmIX",
        "outputId": "366f4ce4-62c5-4a9d-8dc7-52e7627b381e"
      },
      "execution_count": 23,
      "outputs": [
        {
          "output_type": "stream",
          "name": "stderr",
          "text": [
            "/usr/local/lib/python3.7/dist-packages/ipykernel_launcher.py:1: FutureWarning: Treating datetime data as categorical rather than numeric in `.describe` is deprecated and will be removed in a future version of pandas. Specify `datetime_is_numeric=True` to silence this warning and adopt the future behavior now.\n",
            "  \"\"\"Entry point for launching an IPython kernel.\n"
          ]
        },
        {
          "output_type": "execute_result",
          "data": {
            "text/html": [
              "<div>\n",
              "<style scoped>\n",
              "    .dataframe tbody tr th:only-of-type {\n",
              "        vertical-align: middle;\n",
              "    }\n",
              "\n",
              "    .dataframe tbody tr th {\n",
              "        vertical-align: top;\n",
              "    }\n",
              "\n",
              "    .dataframe thead th {\n",
              "        text-align: right;\n",
              "    }\n",
              "</style>\n",
              "<table border=\"1\" class=\"dataframe\">\n",
              "  <thead>\n",
              "    <tr style=\"text-align: right;\">\n",
              "      <th></th>\n",
              "      <th>count</th>\n",
              "      <th>unique</th>\n",
              "      <th>top</th>\n",
              "      <th>freq</th>\n",
              "      <th>first</th>\n",
              "      <th>last</th>\n",
              "      <th>mean</th>\n",
              "      <th>std</th>\n",
              "      <th>min</th>\n",
              "      <th>25%</th>\n",
              "      <th>50%</th>\n",
              "      <th>75%</th>\n",
              "      <th>max</th>\n",
              "    </tr>\n",
              "  </thead>\n",
              "  <tbody>\n",
              "    <tr>\n",
              "      <th>InvoiceNo</th>\n",
              "      <td>397924</td>\n",
              "      <td>18536</td>\n",
              "      <td>576339</td>\n",
              "      <td>542</td>\n",
              "      <td>NaT</td>\n",
              "      <td>NaT</td>\n",
              "      <td>NaN</td>\n",
              "      <td>NaN</td>\n",
              "      <td>NaN</td>\n",
              "      <td>NaN</td>\n",
              "      <td>NaN</td>\n",
              "      <td>NaN</td>\n",
              "      <td>NaN</td>\n",
              "    </tr>\n",
              "    <tr>\n",
              "      <th>StockCode</th>\n",
              "      <td>397924</td>\n",
              "      <td>3665</td>\n",
              "      <td>85123A</td>\n",
              "      <td>2035</td>\n",
              "      <td>NaT</td>\n",
              "      <td>NaT</td>\n",
              "      <td>NaN</td>\n",
              "      <td>NaN</td>\n",
              "      <td>NaN</td>\n",
              "      <td>NaN</td>\n",
              "      <td>NaN</td>\n",
              "      <td>NaN</td>\n",
              "      <td>NaN</td>\n",
              "    </tr>\n",
              "    <tr>\n",
              "      <th>Description</th>\n",
              "      <td>397924</td>\n",
              "      <td>3877</td>\n",
              "      <td>WHITE HANGING HEART T-LIGHT HOLDER</td>\n",
              "      <td>2028</td>\n",
              "      <td>NaT</td>\n",
              "      <td>NaT</td>\n",
              "      <td>NaN</td>\n",
              "      <td>NaN</td>\n",
              "      <td>NaN</td>\n",
              "      <td>NaN</td>\n",
              "      <td>NaN</td>\n",
              "      <td>NaN</td>\n",
              "      <td>NaN</td>\n",
              "    </tr>\n",
              "    <tr>\n",
              "      <th>Quantity</th>\n",
              "      <td>397924</td>\n",
              "      <td>NaN</td>\n",
              "      <td>NaN</td>\n",
              "      <td>NaN</td>\n",
              "      <td>NaT</td>\n",
              "      <td>NaT</td>\n",
              "      <td>13.0218</td>\n",
              "      <td>180.42</td>\n",
              "      <td>1</td>\n",
              "      <td>2</td>\n",
              "      <td>6</td>\n",
              "      <td>12</td>\n",
              "      <td>80995</td>\n",
              "    </tr>\n",
              "    <tr>\n",
              "      <th>InvoiceDate</th>\n",
              "      <td>397924</td>\n",
              "      <td>17286</td>\n",
              "      <td>2011-11-14 15:27:00</td>\n",
              "      <td>542</td>\n",
              "      <td>2010-12-01 08:26:00</td>\n",
              "      <td>2011-12-09 12:50:00</td>\n",
              "      <td>NaN</td>\n",
              "      <td>NaN</td>\n",
              "      <td>NaN</td>\n",
              "      <td>NaN</td>\n",
              "      <td>NaN</td>\n",
              "      <td>NaN</td>\n",
              "      <td>NaN</td>\n",
              "    </tr>\n",
              "    <tr>\n",
              "      <th>UnitPrice</th>\n",
              "      <td>397924</td>\n",
              "      <td>NaN</td>\n",
              "      <td>NaN</td>\n",
              "      <td>NaN</td>\n",
              "      <td>NaT</td>\n",
              "      <td>NaT</td>\n",
              "      <td>3.11617</td>\n",
              "      <td>22.0968</td>\n",
              "      <td>0</td>\n",
              "      <td>1.25</td>\n",
              "      <td>1.95</td>\n",
              "      <td>3.75</td>\n",
              "      <td>8142.75</td>\n",
              "    </tr>\n",
              "    <tr>\n",
              "      <th>CustomerID</th>\n",
              "      <td>397924</td>\n",
              "      <td>NaN</td>\n",
              "      <td>NaN</td>\n",
              "      <td>NaN</td>\n",
              "      <td>NaT</td>\n",
              "      <td>NaT</td>\n",
              "      <td>15294.3</td>\n",
              "      <td>1713.17</td>\n",
              "      <td>12346</td>\n",
              "      <td>13969</td>\n",
              "      <td>15159</td>\n",
              "      <td>16795</td>\n",
              "      <td>18287</td>\n",
              "    </tr>\n",
              "    <tr>\n",
              "      <th>Country</th>\n",
              "      <td>397924</td>\n",
              "      <td>37</td>\n",
              "      <td>United Kingdom</td>\n",
              "      <td>354345</td>\n",
              "      <td>NaT</td>\n",
              "      <td>NaT</td>\n",
              "      <td>NaN</td>\n",
              "      <td>NaN</td>\n",
              "      <td>NaN</td>\n",
              "      <td>NaN</td>\n",
              "      <td>NaN</td>\n",
              "      <td>NaN</td>\n",
              "      <td>NaN</td>\n",
              "    </tr>\n",
              "  </tbody>\n",
              "</table>\n",
              "</div>"
            ],
            "text/plain": [
              "              count unique  ...    75%      max\n",
              "InvoiceNo    397924  18536  ...    NaN      NaN\n",
              "StockCode    397924   3665  ...    NaN      NaN\n",
              "Description  397924   3877  ...    NaN      NaN\n",
              "Quantity     397924    NaN  ...     12    80995\n",
              "InvoiceDate  397924  17286  ...    NaN      NaN\n",
              "UnitPrice    397924    NaN  ...   3.75  8142.75\n",
              "CustomerID   397924    NaN  ...  16795    18287\n",
              "Country      397924     37  ...    NaN      NaN\n",
              "\n",
              "[8 rows x 13 columns]"
            ]
          },
          "metadata": {},
          "execution_count": 23
        }
      ]
    },
    {
      "cell_type": "code",
      "source": [
        "df.shape"
      ],
      "metadata": {
        "colab": {
          "base_uri": "https://localhost:8080/"
        },
        "id": "cwHppVMW3vxf",
        "outputId": "b54aa7cf-d03b-475b-84bf-bbaeebd94aca"
      },
      "execution_count": 19,
      "outputs": [
        {
          "output_type": "execute_result",
          "data": {
            "text/plain": [
              "(397924, 8)"
            ]
          },
          "metadata": {},
          "execution_count": 19
        }
      ]
    },
    {
      "cell_type": "markdown",
      "source": [
        " **After removeing all irrelavent data.it reduces to (397924, 8)**"
      ],
      "metadata": {
        "id": "VbpCoxoV3_LA"
      }
    },
    {
      "cell_type": "markdown",
      "source": [
        "# **Exploring all the Feature's**"
      ],
      "metadata": {
        "id": "skxRt-2HMixZ"
      }
    },
    {
      "cell_type": "markdown",
      "source": [
        " **Country**"
      ],
      "metadata": {
        "id": "Pd8kieShPQD0"
      }
    },
    {
      "cell_type": "code",
      "source": [
        "df['Country'].value_counts()"
      ],
      "metadata": {
        "colab": {
          "base_uri": "https://localhost:8080/"
        },
        "id": "ye3c9CVpO41c",
        "outputId": "9a71a712-e8ea-4fd4-fdf5-4a43eae06aab"
      },
      "execution_count": 17,
      "outputs": [
        {
          "output_type": "execute_result",
          "data": {
            "text/plain": [
              "United Kingdom          354345\n",
              "Germany                   9042\n",
              "France                    8342\n",
              "EIRE                      7238\n",
              "Spain                     2485\n",
              "Netherlands               2363\n",
              "Belgium                   2031\n",
              "Switzerland               1842\n",
              "Portugal                  1462\n",
              "Australia                 1185\n",
              "Norway                    1072\n",
              "Italy                      758\n",
              "Channel Islands            748\n",
              "Finland                    685\n",
              "Cyprus                     614\n",
              "Sweden                     451\n",
              "Austria                    398\n",
              "Denmark                    380\n",
              "Poland                     330\n",
              "Japan                      321\n",
              "Israel                     248\n",
              "Unspecified                244\n",
              "Singapore                  222\n",
              "Iceland                    182\n",
              "USA                        179\n",
              "Canada                     151\n",
              "Greece                     145\n",
              "Malta                      112\n",
              "United Arab Emirates        68\n",
              "European Community          60\n",
              "RSA                         58\n",
              "Lebanon                     45\n",
              "Lithuania                   35\n",
              "Brazil                      32\n",
              "Czech Republic              25\n",
              "Bahrain                     17\n",
              "Saudi Arabia                 9\n",
              "Name: Country, dtype: int64"
            ]
          },
          "metadata": {},
          "execution_count": 17
        }
      ]
    },
    {
      "cell_type": "code",
      "source": [
        "country_df = pd.DataFrame(df.groupby('Country')['Country'].count())\n",
        "country_df.columns = ['Number of Customers by Country']\n",
        "country_df.sort_values('Number of Customers by Country', inplace=True, ascending=False)\n",
        "fig, ax = plt.subplots(figsize=(12,6),dpi=100)\n",
        "ax=sns.barplot(x=country_df.index, y=country_df['Number of Customers by Country'])\n",
        "ax.set_xticklabels(ax.get_xticklabels(), rotation=50, ha=\"right\")\n",
        "plt.show()"
      ],
      "metadata": {
        "colab": {
          "base_uri": "https://localhost:8080/",
          "height": 643
        },
        "id": "_baKtpUs6YGn",
        "outputId": "8952a053-b757-4660-8b11-f431cb2b77e3"
      },
      "execution_count": 24,
      "outputs": [
        {
          "output_type": "display_data",
          "data": {
            "image/png": "[encoded data removed]",
            "text/plain": [
              "<Figure size 1200x600 with 1 Axes>"
            ]
          },
          "metadata": {
            "needs_background": "light"
          }
        }
      ]
    },
    {
      "cell_type": "markdown",
      "source": [
        "# **Top 5 country**"
      ],
      "metadata": {
        "id": "eMGsB4ibAYvb"
      }
    },
    {
      "cell_type": "code",
      "source": [
        "country_df = pd.DataFrame(df.groupby('Country')['Country'].count())\n",
        "country_df.columns = ['Number of Customers by Country']\n",
        "country_df.sort_values('Number of Customers by Country', inplace=True, ascending=False)\n",
        "fig, ax = plt.subplots(figsize=(12,6),dpi=100)\n",
        "ax=sns.barplot(x=country_df.index[:5], y=country_df['Number of Customers by Country'][:5])\n",
        "ax.set_xticklabels(ax.get_xticklabels(), rotation=50, ha=\"right\")\n",
        "plt.show()"
      ],
      "metadata": {
        "colab": {
          "base_uri": "https://localhost:8080/",
          "height": 613
        },
        "id": "Q2KtZwkX_Vu_",
        "outputId": "3c514480-3907-48c4-ccf6-7789c05e6a8b"
      },
      "execution_count": 27,
      "outputs": [
        {
          "output_type": "display_data",
          "data": {
            "image/png": "[encoded data removed]",
            "text/plain": [
              "<Figure size 1200x600 with 1 Axes>"
            ]
          },
          "metadata": {
            "needs_background": "light"
          }
        }
      ]
    },
    {
      "cell_type": "code",
      "source": [
        "df[df['Country']=='United Kingdom']"
      ],
      "metadata": {
        "colab": {
          "base_uri": "https://localhost:8080/",
          "height": 424
        },
        "id": "GhTgVoPaTdlX",
        "outputId": "e9646d48-8d7e-4309-e65a-29d476f97635"
      },
      "execution_count": 42,
      "outputs": [
        {
          "output_type": "execute_result",
          "data": {
            "text/html": [
              "<div>\n",
              "<style scoped>\n",
              "    .dataframe tbody tr th:only-of-type {\n",
              "        vertical-align: middle;\n",
              "    }\n",
              "\n",
              "    .dataframe tbody tr th {\n",
              "        vertical-align: top;\n",
              "    }\n",
              "\n",
              "    .dataframe thead th {\n",
              "        text-align: right;\n",
              "    }\n",
              "</style>\n",
              "<table border=\"1\" class=\"dataframe\">\n",
              "  <thead>\n",
              "    <tr style=\"text-align: right;\">\n",
              "      <th></th>\n",
              "      <th>InvoiceNo</th>\n",
              "      <th>StockCode</th>\n",
              "      <th>Description</th>\n",
              "      <th>Quantity</th>\n",
              "      <th>InvoiceDate</th>\n",
              "      <th>UnitPrice</th>\n",
              "      <th>CustomerID</th>\n",
              "      <th>Country</th>\n",
              "    </tr>\n",
              "  </thead>\n",
              "  <tbody>\n",
              "    <tr>\n",
              "      <th>0</th>\n",
              "      <td>536365</td>\n",
              "      <td>85123A</td>\n",
              "      <td>WHITE HANGING HEART T-LIGHT HOLDER</td>\n",
              "      <td>6</td>\n",
              "      <td>2010-12-01 08:26:00</td>\n",
              "      <td>2.55</td>\n",
              "      <td>17850.0</td>\n",
              "      <td>United Kingdom</td>\n",
              "    </tr>\n",
              "    <tr>\n",
              "      <th>1</th>\n",
              "      <td>536365</td>\n",
              "      <td>71053</td>\n",
              "      <td>WHITE METAL LANTERN</td>\n",
              "      <td>6</td>\n",
              "      <td>2010-12-01 08:26:00</td>\n",
              "      <td>3.39</td>\n",
              "      <td>17850.0</td>\n",
              "      <td>United Kingdom</td>\n",
              "    </tr>\n",
              "    <tr>\n",
              "      <th>2</th>\n",
              "      <td>536365</td>\n",
              "      <td>84406B</td>\n",
              "      <td>CREAM CUPID HEARTS COAT HANGER</td>\n",
              "      <td>8</td>\n",
              "      <td>2010-12-01 08:26:00</td>\n",
              "      <td>2.75</td>\n",
              "      <td>17850.0</td>\n",
              "      <td>United Kingdom</td>\n",
              "    </tr>\n",
              "    <tr>\n",
              "      <th>3</th>\n",
              "      <td>536365</td>\n",
              "      <td>84029G</td>\n",
              "      <td>KNITTED UNION FLAG HOT WATER BOTTLE</td>\n",
              "      <td>6</td>\n",
              "      <td>2010-12-01 08:26:00</td>\n",
              "      <td>3.39</td>\n",
              "      <td>17850.0</td>\n",
              "      <td>United Kingdom</td>\n",
              "    </tr>\n",
              "    <tr>\n",
              "      <th>4</th>\n",
              "      <td>536365</td>\n",
              "      <td>84029E</td>\n",
              "      <td>RED WOOLLY HOTTIE WHITE HEART.</td>\n",
              "      <td>6</td>\n",
              "      <td>2010-12-01 08:26:00</td>\n",
              "      <td>3.39</td>\n",
              "      <td>17850.0</td>\n",
              "      <td>United Kingdom</td>\n",
              "    </tr>\n",
              "    <tr>\n",
              "      <th>...</th>\n",
              "      <td>...</td>\n",
              "      <td>...</td>\n",
              "      <td>...</td>\n",
              "      <td>...</td>\n",
              "      <td>...</td>\n",
              "      <td>...</td>\n",
              "      <td>...</td>\n",
              "      <td>...</td>\n",
              "    </tr>\n",
              "    <tr>\n",
              "      <th>541889</th>\n",
              "      <td>581585</td>\n",
              "      <td>22466</td>\n",
              "      <td>FAIRY TALE COTTAGE NIGHT LIGHT</td>\n",
              "      <td>12</td>\n",
              "      <td>2011-12-09 12:31:00</td>\n",
              "      <td>1.95</td>\n",
              "      <td>15804.0</td>\n",
              "      <td>United Kingdom</td>\n",
              "    </tr>\n",
              "    <tr>\n",
              "      <th>541890</th>\n",
              "      <td>581586</td>\n",
              "      <td>22061</td>\n",
              "      <td>LARGE CAKE STAND  HANGING STRAWBERY</td>\n",
              "      <td>8</td>\n",
              "      <td>2011-12-09 12:49:00</td>\n",
              "      <td>2.95</td>\n",
              "      <td>13113.0</td>\n",
              "      <td>United Kingdom</td>\n",
              "    </tr>\n",
              "    <tr>\n",
              "      <th>541891</th>\n",
              "      <td>581586</td>\n",
              "      <td>23275</td>\n",
              "      <td>SET OF 3 HANGING OWLS OLLIE BEAK</td>\n",
              "      <td>24</td>\n",
              "      <td>2011-12-09 12:49:00</td>\n",
              "      <td>1.25</td>\n",
              "      <td>13113.0</td>\n",
              "      <td>United Kingdom</td>\n",
              "    </tr>\n",
              "    <tr>\n",
              "      <th>541892</th>\n",
              "      <td>581586</td>\n",
              "      <td>21217</td>\n",
              "      <td>RED RETROSPOT ROUND CAKE TINS</td>\n",
              "      <td>24</td>\n",
              "      <td>2011-12-09 12:49:00</td>\n",
              "      <td>8.95</td>\n",
              "      <td>13113.0</td>\n",
              "      <td>United Kingdom</td>\n",
              "    </tr>\n",
              "    <tr>\n",
              "      <th>541893</th>\n",
              "      <td>581586</td>\n",
              "      <td>20685</td>\n",
              "      <td>DOORMAT RED RETROSPOT</td>\n",
              "      <td>10</td>\n",
              "      <td>2011-12-09 12:49:00</td>\n",
              "      <td>7.08</td>\n",
              "      <td>13113.0</td>\n",
              "      <td>United Kingdom</td>\n",
              "    </tr>\n",
              "  </tbody>\n",
              "</table>\n",
              "<p>354345 rows × 8 columns</p>\n",
              "</div>"
            ],
            "text/plain": [
              "       InvoiceNo StockCode  ... CustomerID         Country\n",
              "0         536365    85123A  ...    17850.0  United Kingdom\n",
              "1         536365     71053  ...    17850.0  United Kingdom\n",
              "2         536365    84406B  ...    17850.0  United Kingdom\n",
              "3         536365    84029G  ...    17850.0  United Kingdom\n",
              "4         536365    84029E  ...    17850.0  United Kingdom\n",
              "...          ...       ...  ...        ...             ...\n",
              "541889    581585     22466  ...    15804.0  United Kingdom\n",
              "541890    581586     22061  ...    13113.0  United Kingdom\n",
              "541891    581586     23275  ...    13113.0  United Kingdom\n",
              "541892    581586     21217  ...    13113.0  United Kingdom\n",
              "541893    581586     20685  ...    13113.0  United Kingdom\n",
              "\n",
              "[354345 rows x 8 columns]"
            ]
          },
          "metadata": {},
          "execution_count": 42
        }
      ]
    },
    {
      "cell_type": "markdown",
      "source": [
        "# **bottom 5 country**"
      ],
      "metadata": {
        "id": "h74AvtvH_Tcs"
      }
    },
    {
      "cell_type": "code",
      "source": [
        "country_df = pd.DataFrame(df.groupby('Country')['Country'].count())\n",
        "country_df.columns = ['Number of Customers by Country']\n",
        "country_df.sort_values('Number of Customers by Country', inplace=True, ascending=False)\n",
        "fig, ax = plt.subplots(figsize=(12,6),dpi=100)\n",
        "ax=sns.barplot(x=country_df.index[-5:], y=country_df['Number of Customers by Country'][-5:])\n",
        "ax.set_xticklabels(ax.get_xticklabels(), rotation=50, ha=\"right\")\n",
        "plt.show()"
      ],
      "metadata": {
        "colab": {
          "base_uri": "https://localhost:8080/",
          "height": 609
        },
        "id": "Rt31MUdEAyE1",
        "outputId": "74df1e53-2db1-4c4b-986d-669aa340c332"
      },
      "execution_count": 28,
      "outputs": [
        {
          "output_type": "display_data",
          "data": {
            "image/png": "[encoded data removed]",
            "text/plain": [
              "<Figure size 1200x600 with 1 Axes>"
            ]
          },
          "metadata": {
            "needs_background": "light"
          }
        }
      ]
    },
    {
      "cell_type": "code",
      "source": [
        "df.columns"
      ],
      "metadata": {
        "colab": {
          "base_uri": "https://localhost:8080/"
        },
        "id": "DZIhNehOCuCT",
        "outputId": "b2950552-7321-4fe8-a03b-3681f29c4d6b"
      },
      "execution_count": 29,
      "outputs": [
        {
          "output_type": "execute_result",
          "data": {
            "text/plain": [
              "Index(['InvoiceNo', 'StockCode', 'Description', 'Quantity', 'InvoiceDate',\n",
              "       'UnitPrice', 'CustomerID', 'Country'],\n",
              "      dtype='object')"
            ]
          },
          "metadata": {},
          "execution_count": 29
        }
      ]
    },
    {
      "cell_type": "markdown",
      "source": [
        "# **'Description' feature analysis**"
      ],
      "metadata": {
        "id": "HNolRWEEPVIm"
      }
    },
    {
      "cell_type": "code",
      "source": [
        "Description_df=df['Description'].value_counts().reset_index()\n",
        "Description_df.rename(columns={'index': 'Description_Name'}, inplace=True)\n",
        "Description_df.rename(columns={'Description': 'Count'}, inplace=True)\n",
        "Description_df.head()"
      ],
      "metadata": {
        "colab": {
          "base_uri": "https://localhost:8080/",
          "height": 206
        },
        "id": "mkjVdMZQDD9W",
        "outputId": "ab69c6ff-ff7d-4527-bd95-67fbcdc24866"
      },
      "execution_count": 30,
      "outputs": [
        {
          "output_type": "execute_result",
          "data": {
            "text/html": [
              "<div>\n",
              "<style scoped>\n",
              "    .dataframe tbody tr th:only-of-type {\n",
              "        vertical-align: middle;\n",
              "    }\n",
              "\n",
              "    .dataframe tbody tr th {\n",
              "        vertical-align: top;\n",
              "    }\n",
              "\n",
              "    .dataframe thead th {\n",
              "        text-align: right;\n",
              "    }\n",
              "</style>\n",
              "<table border=\"1\" class=\"dataframe\">\n",
              "  <thead>\n",
              "    <tr style=\"text-align: right;\">\n",
              "      <th></th>\n",
              "      <th>Description_Name</th>\n",
              "      <th>Count</th>\n",
              "    </tr>\n",
              "  </thead>\n",
              "  <tbody>\n",
              "    <tr>\n",
              "      <th>0</th>\n",
              "      <td>WHITE HANGING HEART T-LIGHT HOLDER</td>\n",
              "      <td>2028</td>\n",
              "    </tr>\n",
              "    <tr>\n",
              "      <th>1</th>\n",
              "      <td>REGENCY CAKESTAND 3 TIER</td>\n",
              "      <td>1724</td>\n",
              "    </tr>\n",
              "    <tr>\n",
              "      <th>2</th>\n",
              "      <td>JUMBO BAG RED RETROSPOT</td>\n",
              "      <td>1618</td>\n",
              "    </tr>\n",
              "    <tr>\n",
              "      <th>3</th>\n",
              "      <td>ASSORTED COLOUR BIRD ORNAMENT</td>\n",
              "      <td>1408</td>\n",
              "    </tr>\n",
              "    <tr>\n",
              "      <th>4</th>\n",
              "      <td>PARTY BUNTING</td>\n",
              "      <td>1397</td>\n",
              "    </tr>\n",
              "  </tbody>\n",
              "</table>\n",
              "</div>"
            ],
            "text/plain": [
              "                     Description_Name  Count\n",
              "0  WHITE HANGING HEART T-LIGHT HOLDER   2028\n",
              "1            REGENCY CAKESTAND 3 TIER   1724\n",
              "2             JUMBO BAG RED RETROSPOT   1618\n",
              "3       ASSORTED COLOUR BIRD ORNAMENT   1408\n",
              "4                       PARTY BUNTING   1397"
            ]
          },
          "metadata": {},
          "execution_count": 30
        }
      ]
    },
    {
      "cell_type": "code",
      "source": [
        "Description_df.tail()"
      ],
      "metadata": {
        "colab": {
          "base_uri": "https://localhost:8080/",
          "height": 206
        },
        "id": "yM2weY1NDLs3",
        "outputId": "1aa7b821-e832-4be5-c4a8-863f3556b509"
      },
      "execution_count": 31,
      "outputs": [
        {
          "output_type": "execute_result",
          "data": {
            "text/html": [
              "<div>\n",
              "<style scoped>\n",
              "    .dataframe tbody tr th:only-of-type {\n",
              "        vertical-align: middle;\n",
              "    }\n",
              "\n",
              "    .dataframe tbody tr th {\n",
              "        vertical-align: top;\n",
              "    }\n",
              "\n",
              "    .dataframe thead th {\n",
              "        text-align: right;\n",
              "    }\n",
              "</style>\n",
              "<table border=\"1\" class=\"dataframe\">\n",
              "  <thead>\n",
              "    <tr style=\"text-align: right;\">\n",
              "      <th></th>\n",
              "      <th>Description_Name</th>\n",
              "      <th>Count</th>\n",
              "    </tr>\n",
              "  </thead>\n",
              "  <tbody>\n",
              "    <tr>\n",
              "      <th>3872</th>\n",
              "      <td>BLACK CHRISTMAS FLOCK DROPLET</td>\n",
              "      <td>1</td>\n",
              "    </tr>\n",
              "    <tr>\n",
              "      <th>3873</th>\n",
              "      <td>BIG POLKADOT MUG</td>\n",
              "      <td>1</td>\n",
              "    </tr>\n",
              "    <tr>\n",
              "      <th>3874</th>\n",
              "      <td>IVORY SHELL HEART EARRINGS</td>\n",
              "      <td>1</td>\n",
              "    </tr>\n",
              "    <tr>\n",
              "      <th>3875</th>\n",
              "      <td>WEEKEND BAG VINTAGE ROSE PAISLEY</td>\n",
              "      <td>1</td>\n",
              "    </tr>\n",
              "    <tr>\n",
              "      <th>3876</th>\n",
              "      <td>PINK CHRYSANTHEMUMS ART FLOWER</td>\n",
              "      <td>1</td>\n",
              "    </tr>\n",
              "  </tbody>\n",
              "</table>\n",
              "</div>"
            ],
            "text/plain": [
              "                      Description_Name  Count\n",
              "3872    BLACK CHRISTMAS FLOCK DROPLET       1\n",
              "3873                  BIG POLKADOT MUG      1\n",
              "3874        IVORY SHELL HEART EARRINGS      1\n",
              "3875  WEEKEND BAG VINTAGE ROSE PAISLEY      1\n",
              "3876    PINK CHRYSANTHEMUMS ART FLOWER      1"
            ]
          },
          "metadata": {},
          "execution_count": 31
        }
      ]
    },
    {
      "cell_type": "markdown",
      "source": [
        "# **Top 5 product**"
      ],
      "metadata": {
        "id": "lzxDf0pBGzmz"
      }
    },
    {
      "cell_type": "code",
      "source": [
        "plt.figure(figsize=(18,11))\n",
        "plt.title('Top 5 Product Name')\n",
        "sns.barplot(x='Description_Name',y='Count',data=Description_df[:5], palette = \"mako\")"
      ],
      "metadata": {
        "colab": {
          "base_uri": "https://localhost:8080/",
          "height": 694
        },
        "id": "GxmDKp_-Dap8",
        "outputId": "86a6806c-532d-4fee-ac8a-5568b411c605"
      },
      "execution_count": 40,
      "outputs": [
        {
          "output_type": "execute_result",
          "data": {
            "text/plain": [
              "<matplotlib.axes._subplots.AxesSubplot at 0x7f77bb035310>"
            ]
          },
          "metadata": {},
          "execution_count": 40
        },
        {
          "output_type": "display_data",
          "data": {
            "image/png": "[encoded data removed]",
            "text/plain": [
              "<Figure size 1296x792 with 1 Axes>"
            ]
          },
          "metadata": {
            "needs_background": "light"
          }
        }
      ]
    },
    {
      "cell_type": "markdown",
      "source": [
        "# **Bottom 5 product**"
      ],
      "metadata": {
        "id": "uHPyJK70G8gZ"
      }
    },
    {
      "cell_type": "code",
      "source": [
        "plt.figure(figsize=(18,11))\n",
        "plt.title('Bottom 5 product Name')\n",
        "sns.barplot(x='Description_Name',y='Count',data=Description_df[-5:], palette =\"viridis\")"
      ],
      "metadata": {
        "colab": {
          "base_uri": "https://localhost:8080/",
          "height": 694
        },
        "id": "xbQeZCOgGf93",
        "outputId": "b7560645-0b85-43b5-a69a-607802534e82"
      },
      "execution_count": 41,
      "outputs": [
        {
          "output_type": "execute_result",
          "data": {
            "text/plain": [
              "<matplotlib.axes._subplots.AxesSubplot at 0x7f77baf5be90>"
            ]
          },
          "metadata": {},
          "execution_count": 41
        },
        {
          "output_type": "display_data",
          "data": {
            "image/png": "[encoded data removed]",
            "text/plain": [
              "<Figure size 1296x792 with 1 Axes>"
            ]
          },
          "metadata": {
            "needs_background": "light"
          }
        }
      ]
    },
    {
      "cell_type": "markdown",
      "source": [
        "\n",
        "\n",
        "  1. LIGHT DECORATION BATTERY OPERATED    \n",
        "  2. Water damaged    \n",
        "  3. throw away    \n",
        "  4. re dotcom quick fix.    \n",
        "  5. BIRTHDAY BANNER TAPEList item\n",
        "\n",
        "\n"
      ],
      "metadata": {
        "id": "jlXqlqClHfsN"
      }
    },
    {
      "cell_type": "markdown",
      "source": [
        "# **Data distribution**"
      ],
      "metadata": {
        "id": "9m6rxAzaTrgo"
      }
    },
    {
      "cell_type": "code",
      "source": [
        "df.info()"
      ],
      "metadata": {
        "colab": {
          "base_uri": "https://localhost:8080/"
        },
        "id": "1vs24vOkgP3w",
        "outputId": "e647b0f4-a83b-468b-dc92-ac1a521c3047"
      },
      "execution_count": 44,
      "outputs": [
        {
          "output_type": "stream",
          "name": "stdout",
          "text": [
            "<class 'pandas.core.frame.DataFrame'>\n",
            "Int64Index: 397924 entries, 0 to 541908\n",
            "Data columns (total 8 columns):\n",
            " #   Column       Non-Null Count   Dtype         \n",
            "---  ------       --------------   -----         \n",
            " 0   InvoiceNo    397924 non-null  object        \n",
            " 1   StockCode    397924 non-null  object        \n",
            " 2   Description  397924 non-null  object        \n",
            " 3   Quantity     397924 non-null  int64         \n",
            " 4   InvoiceDate  397924 non-null  datetime64[ns]\n",
            " 5   UnitPrice    397924 non-null  float64       \n",
            " 6   CustomerID   397924 non-null  float64       \n",
            " 7   Country      397924 non-null  object        \n",
            "dtypes: datetime64[ns](1), float64(2), int64(1), object(4)\n",
            "memory usage: 27.3+ MB\n"
          ]
        }
      ]
    },
    {
      "cell_type": "markdown",
      "source": [
        "# **We have two interger type feature let see the distribution of those column**"
      ],
      "metadata": {
        "id": "_Be_vnOYf9Kr"
      }
    },
    {
      "cell_type": "code",
      "source": [
        "#distribution of Quantity\n",
        "plt.figure(figsize=(12,8))\n",
        "plt.title('distribution of Quantity')\n",
        "sns.distplot(df['Quantity'],color=\"g\")\n",
        "plt.show()"
      ],
      "metadata": {
        "colab": {
          "base_uri": "https://localhost:8080/",
          "height": 568
        },
        "id": "Fad3bEEpRZeD",
        "outputId": "671dda5d-018d-4ea7-e41a-e515b9adcf3c"
      },
      "execution_count": 47,
      "outputs": [
        {
          "output_type": "stream",
          "name": "stderr",
          "text": [
            "/usr/local/lib/python3.7/dist-packages/seaborn/distributions.py:2619: FutureWarning: `distplot` is a deprecated function and will be removed in a future version. Please adapt your code to use either `displot` (a figure-level function with similar flexibility) or `histplot` (an axes-level function for histograms).\n",
            "  warnings.warn(msg, FutureWarning)\n"
          ]
        },
        {
          "output_type": "display_data",
          "data": {
            "image/png": "[encoded data removed]",
            "text/plain": [
              "<Figure size 864x576 with 1 Axes>"
            ]
          },
          "metadata": {
            "needs_background": "light"
          }
        }
      ]
    },
    {
      "cell_type": "markdown",
      "source": [
        "# **transformation of data**"
      ],
      "metadata": {
        "id": "f88e4M8Jg7Rx"
      }
    },
    {
      "cell_type": "code",
      "source": [
        "plt.figure(figsize=(12,8))\n",
        "plt.title('distribution of Quantity')\n",
        "sns.distplot(np.log1p(df['Quantity']),color=\"g\")\n",
        "plt.show()"
      ],
      "metadata": {
        "colab": {
          "base_uri": "https://localhost:8080/",
          "height": 568
        },
        "id": "CgCiX4ouhDc_",
        "outputId": "2c7458ca-e953-4356-e9dc-4a99f4f6c656"
      },
      "execution_count": 48,
      "outputs": [
        {
          "output_type": "stream",
          "name": "stderr",
          "text": [
            "/usr/local/lib/python3.7/dist-packages/seaborn/distributions.py:2619: FutureWarning: `distplot` is a deprecated function and will be removed in a future version. Please adapt your code to use either `displot` (a figure-level function with similar flexibility) or `histplot` (an axes-level function for histograms).\n",
            "  warnings.warn(msg, FutureWarning)\n"
          ]
        },
        {
          "output_type": "display_data",
          "data": {
            "image/png": "[encoded data removed]",
            "text/plain": [
              "<Figure size 864x576 with 1 Axes>"
            ]
          },
          "metadata": {
            "needs_background": "light"
          }
        }
      ]
    },
    {
      "cell_type": "markdown",
      "source": [
        "# **Price column**"
      ],
      "metadata": {
        "id": "0sdYLVAChT2v"
      }
    },
    {
      "cell_type": "code",
      "source": [
        "plt.figure(figsize=(12,8))\n",
        "plt.title('distribution of UnitPrice')\n",
        "sns.distplot(df['UnitPrice'],color=\"G\")"
      ],
      "metadata": {
        "colab": {
          "base_uri": "https://localhost:8080/",
          "height": 655
        },
        "id": "TU4_9pBEhX1b",
        "outputId": "eb44237e-35fb-42af-81c7-a94c391fbccb"
      },
      "execution_count": 49,
      "outputs": [
        {
          "output_type": "stream",
          "name": "stderr",
          "text": [
            "/usr/local/lib/python3.7/dist-packages/seaborn/distributions.py:2619: FutureWarning: `distplot` is a deprecated function and will be removed in a future version. Please adapt your code to use either `displot` (a figure-level function with similar flexibility) or `histplot` (an axes-level function for histograms).\n",
            "  warnings.warn(msg, FutureWarning)\n",
            "/usr/local/lib/python3.7/dist-packages/seaborn/distributions.py:2681: MatplotlibDeprecationWarning: Support for uppercase single-letter colors is deprecated since Matplotlib 3.1 and will be removed in 3.3; please use lowercase instead.\n",
            "  color=hist_color, **hist_kws)\n",
            "/usr/local/lib/python3.7/dist-packages/seaborn/distributions.py:177: MatplotlibDeprecationWarning: Support for uppercase single-letter colors is deprecated since Matplotlib 3.1 and will be removed in 3.3; please use lowercase instead.\n",
            "  kws[\"color\"] = to_rgba(color, alpha)\n"
          ]
        },
        {
          "output_type": "execute_result",
          "data": {
            "text/plain": [
              "<matplotlib.axes._subplots.AxesSubplot at 0x7f77bb82b910>"
            ]
          },
          "metadata": {},
          "execution_count": 49
        },
        {
          "output_type": "display_data",
          "data": {
            "image/png": "[encoded data removed]",
            "text/plain": [
              "<Figure size 864x576 with 1 Axes>"
            ]
          },
          "metadata": {
            "needs_background": "light"
          }
        }
      ]
    },
    {
      "cell_type": "code",
      "source": [
        "plt.figure(figsize=(12,8))\n",
        "plt.title('distribution of UnitPrice')\n",
        "sns.distplot(np.log1p(df['UnitPrice']),color=\"G\")"
      ],
      "metadata": {
        "colab": {
          "base_uri": "https://localhost:8080/",
          "height": 585
        },
        "id": "Hte1lG8Zhf_f",
        "outputId": "f82e49a3-c8b8-4547-9f6f-b5a8bd23d676"
      },
      "execution_count": 51,
      "outputs": [
        {
          "output_type": "stream",
          "name": "stderr",
          "text": [
            "/usr/local/lib/python3.7/dist-packages/seaborn/distributions.py:2619: FutureWarning: `distplot` is a deprecated function and will be removed in a future version. Please adapt your code to use either `displot` (a figure-level function with similar flexibility) or `histplot` (an axes-level function for histograms).\n",
            "  warnings.warn(msg, FutureWarning)\n"
          ]
        },
        {
          "output_type": "execute_result",
          "data": {
            "text/plain": [
              "<matplotlib.axes._subplots.AxesSubplot at 0x7f77b9b23e10>"
            ]
          },
          "metadata": {},
          "execution_count": 51
        },
        {
          "output_type": "display_data",
          "data": {
            "image/png": "[encoded data removed]",
            "text/plain": [
              "<Figure size 864x576 with 1 Axes>"
            ]
          },
          "metadata": {
            "needs_background": "light"
          }
        }
      ]
    },
    {
      "cell_type": "markdown",
      "source": [
        "# **Ignore all sell that are negetive**"
      ],
      "metadata": {
        "id": "0pCfxGNih-V5"
      }
    },
    {
      "cell_type": "code",
      "source": [
        "df=df[df['UnitPrice']>0]"
      ],
      "metadata": {
        "id": "J6I4VTr1h9Mm"
      },
      "execution_count": null,
      "outputs": []
    }
  ]
}